{
 "nbformat": 4,
 "nbformat_minor": 2,
 "metadata": {
  "language_info": {
   "name": "python",
   "codemirror_mode": {
    "name": "ipython",
    "version": 3
   },
   "version": "3.8.3-final"
  },
  "orig_nbformat": 2,
  "file_extension": ".py",
  "mimetype": "text/x-python",
  "name": "python",
  "npconvert_exporter": "python",
  "pygments_lexer": "ipython3",
  "version": 3,
  "kernelspec": {
   "name": "python38364bit2a24180543df4267a949976de8f0a91f",
   "display_name": "Python 3.8.3 64-bit"
  }
 },
 "cells": [
  {
   "cell_type": "code",
   "execution_count": 1,
   "metadata": {},
   "outputs": [
    {
     "data": {
      "text/html": "        <script type=\"text/javascript\">\n        window.PlotlyConfig = {MathJaxConfig: 'local'};\n        if (window.MathJax) {MathJax.Hub.Config({SVG: {font: \"STIX-Web\"}});}\n        if (typeof require !== 'undefined') {\n        require.undef(\"plotly\");\n        requirejs.config({\n            paths: {\n                'plotly': ['https://cdn.plot.ly/plotly-latest.min']\n            }\n        });\n        require(['plotly'], function(Plotly) {\n            window._Plotly = Plotly;\n        });\n        }\n        </script>\n        "
     },
     "metadata": {},
     "output_type": "display_data"
    }
   ],
   "source": [
    "import pandas as pd\n",
    "import numpy as np \n",
    "import seaborn as sns \n",
    "import matplotlib.pyplot as plt \n",
    "\n",
    "# data Visualization\n",
    "import plotly.graph_objs as go\n",
    "import plotly.offline as py\n",
    "import matplotlib.ticker as mtick\n",
    "py.init_notebook_mode(connected=True)\n",
    "\n",
    "from sklearn import tree\n",
    "from sklearn.metrics import roc_auc_score, roc_curve, auc, f1_score, precision_recall_curve,accuracy_score,recall_score,precision_score,f1_score\n",
    "from sklearn.model_selection import train_test_split \n",
    "from sklearn.linear_model import LogisticRegression\n",
    "from sklearn.neighbors import KNeighborsClassifier\n",
    "from sklearn.ensemble import RandomForestClassifier,  GradientBoostingClassifier\n",
    "from sklearn.naive_bayes import GaussianNB\n",
    "from xgboost import XGBClassifier\n",
    "from sklearn import svm\n",
    "\n",
    "\n",
    "from sklearn.tree import DecisionTreeClassifier\n",
    "from sklearn import tree\n",
    "#sklearn Processing\n",
    "from sklearn.preprocessing import MinMaxScaler\n",
    "from sklearn.preprocessing import LabelEncoder,StandardScaler\n",
    "\n",
    "from sklearn.metrics import confusion_matrix,classification_report\n",
    "\n",
    "#feature select\n",
    "from sklearn.feature_selection import SelectKBest\n",
    "from sklearn.feature_selection import chi2\n",
    "from sklearn.feature_selection import f_classif\n",
    "from sklearn.ensemble import ExtraTreesClassifier\n",
    "from sklearn.ensemble import VotingClassifier\n",
    "\n",
    "# untuk hyperparameter tuning\n",
    "from sklearn.model_selection import RandomizedSearchCV,cross_val_score\n",
    "from sklearn.model_selection import GridSearchCV"
   ]
  },
  {
   "cell_type": "code",
   "execution_count": 39,
   "metadata": {},
   "outputs": [],
   "source": [
    "df = pd.read_csv(\"finpro_clean.csv\") "
   ]
  },
  {
   "cell_type": "code",
   "execution_count": 40,
   "metadata": {},
   "outputs": [
    {
     "data": {
      "text/html": "<div>\n<style scoped>\n    .dataframe tbody tr th:only-of-type {\n        vertical-align: middle;\n    }\n\n    .dataframe tbody tr th {\n        vertical-align: top;\n    }\n\n    .dataframe thead th {\n        text-align: right;\n    }\n</style>\n<table border=\"1\" class=\"dataframe\">\n  <thead>\n    <tr style=\"text-align: right;\">\n      <th></th>\n      <th>gender</th>\n      <th>SeniorCitizen</th>\n      <th>Partner</th>\n      <th>Dependents</th>\n      <th>tenure</th>\n      <th>PhoneService</th>\n      <th>PaperlessBilling</th>\n      <th>MonthlyCharges</th>\n      <th>Churn</th>\n      <th>TotalChargesNum</th>\n      <th>...</th>\n      <th>StreamingMovies_No</th>\n      <th>StreamingMovies_No internet service</th>\n      <th>StreamingMovies_Yes</th>\n      <th>Contract_Month-to-month</th>\n      <th>Contract_One year</th>\n      <th>Contract_Two year</th>\n      <th>PaymentMethod_Bank transfer (automatic)</th>\n      <th>PaymentMethod_Credit card (automatic)</th>\n      <th>PaymentMethod_Electronic check</th>\n      <th>PaymentMethod_Mailed check</th>\n    </tr>\n  </thead>\n  <tbody>\n    <tr>\n      <th>0</th>\n      <td>0</td>\n      <td>0</td>\n      <td>1</td>\n      <td>0</td>\n      <td>1</td>\n      <td>0</td>\n      <td>1</td>\n      <td>29.85</td>\n      <td>0</td>\n      <td>29.85</td>\n      <td>...</td>\n      <td>1</td>\n      <td>0</td>\n      <td>0</td>\n      <td>1</td>\n      <td>0</td>\n      <td>0</td>\n      <td>0</td>\n      <td>0</td>\n      <td>1</td>\n      <td>0</td>\n    </tr>\n    <tr>\n      <th>1</th>\n      <td>1</td>\n      <td>0</td>\n      <td>0</td>\n      <td>0</td>\n      <td>34</td>\n      <td>1</td>\n      <td>0</td>\n      <td>56.95</td>\n      <td>0</td>\n      <td>1889.50</td>\n      <td>...</td>\n      <td>1</td>\n      <td>0</td>\n      <td>0</td>\n      <td>0</td>\n      <td>1</td>\n      <td>0</td>\n      <td>0</td>\n      <td>0</td>\n      <td>0</td>\n      <td>1</td>\n    </tr>\n    <tr>\n      <th>2</th>\n      <td>1</td>\n      <td>0</td>\n      <td>0</td>\n      <td>0</td>\n      <td>2</td>\n      <td>1</td>\n      <td>1</td>\n      <td>53.85</td>\n      <td>1</td>\n      <td>108.15</td>\n      <td>...</td>\n      <td>1</td>\n      <td>0</td>\n      <td>0</td>\n      <td>1</td>\n      <td>0</td>\n      <td>0</td>\n      <td>0</td>\n      <td>0</td>\n      <td>0</td>\n      <td>1</td>\n    </tr>\n    <tr>\n      <th>3</th>\n      <td>1</td>\n      <td>0</td>\n      <td>0</td>\n      <td>0</td>\n      <td>45</td>\n      <td>0</td>\n      <td>0</td>\n      <td>42.30</td>\n      <td>0</td>\n      <td>1840.75</td>\n      <td>...</td>\n      <td>1</td>\n      <td>0</td>\n      <td>0</td>\n      <td>0</td>\n      <td>1</td>\n      <td>0</td>\n      <td>1</td>\n      <td>0</td>\n      <td>0</td>\n      <td>0</td>\n    </tr>\n    <tr>\n      <th>4</th>\n      <td>0</td>\n      <td>0</td>\n      <td>0</td>\n      <td>0</td>\n      <td>2</td>\n      <td>1</td>\n      <td>1</td>\n      <td>70.70</td>\n      <td>1</td>\n      <td>151.65</td>\n      <td>...</td>\n      <td>1</td>\n      <td>0</td>\n      <td>0</td>\n      <td>1</td>\n      <td>0</td>\n      <td>0</td>\n      <td>0</td>\n      <td>0</td>\n      <td>1</td>\n      <td>0</td>\n    </tr>\n    <tr>\n      <th>...</th>\n      <td>...</td>\n      <td>...</td>\n      <td>...</td>\n      <td>...</td>\n      <td>...</td>\n      <td>...</td>\n      <td>...</td>\n      <td>...</td>\n      <td>...</td>\n      <td>...</td>\n      <td>...</td>\n      <td>...</td>\n      <td>...</td>\n      <td>...</td>\n      <td>...</td>\n      <td>...</td>\n      <td>...</td>\n      <td>...</td>\n      <td>...</td>\n      <td>...</td>\n      <td>...</td>\n    </tr>\n    <tr>\n      <th>7038</th>\n      <td>1</td>\n      <td>0</td>\n      <td>1</td>\n      <td>1</td>\n      <td>24</td>\n      <td>1</td>\n      <td>1</td>\n      <td>84.80</td>\n      <td>0</td>\n      <td>1990.50</td>\n      <td>...</td>\n      <td>0</td>\n      <td>0</td>\n      <td>1</td>\n      <td>0</td>\n      <td>1</td>\n      <td>0</td>\n      <td>0</td>\n      <td>0</td>\n      <td>0</td>\n      <td>1</td>\n    </tr>\n    <tr>\n      <th>7039</th>\n      <td>0</td>\n      <td>0</td>\n      <td>1</td>\n      <td>1</td>\n      <td>72</td>\n      <td>1</td>\n      <td>1</td>\n      <td>103.20</td>\n      <td>0</td>\n      <td>7362.90</td>\n      <td>...</td>\n      <td>0</td>\n      <td>0</td>\n      <td>1</td>\n      <td>0</td>\n      <td>1</td>\n      <td>0</td>\n      <td>0</td>\n      <td>1</td>\n      <td>0</td>\n      <td>0</td>\n    </tr>\n    <tr>\n      <th>7040</th>\n      <td>0</td>\n      <td>0</td>\n      <td>1</td>\n      <td>1</td>\n      <td>11</td>\n      <td>0</td>\n      <td>1</td>\n      <td>29.60</td>\n      <td>0</td>\n      <td>346.45</td>\n      <td>...</td>\n      <td>1</td>\n      <td>0</td>\n      <td>0</td>\n      <td>1</td>\n      <td>0</td>\n      <td>0</td>\n      <td>0</td>\n      <td>0</td>\n      <td>1</td>\n      <td>0</td>\n    </tr>\n    <tr>\n      <th>7041</th>\n      <td>1</td>\n      <td>1</td>\n      <td>1</td>\n      <td>0</td>\n      <td>4</td>\n      <td>1</td>\n      <td>1</td>\n      <td>74.40</td>\n      <td>1</td>\n      <td>306.60</td>\n      <td>...</td>\n      <td>1</td>\n      <td>0</td>\n      <td>0</td>\n      <td>1</td>\n      <td>0</td>\n      <td>0</td>\n      <td>0</td>\n      <td>0</td>\n      <td>0</td>\n      <td>1</td>\n    </tr>\n    <tr>\n      <th>7042</th>\n      <td>1</td>\n      <td>0</td>\n      <td>0</td>\n      <td>0</td>\n      <td>66</td>\n      <td>1</td>\n      <td>1</td>\n      <td>105.65</td>\n      <td>0</td>\n      <td>6844.50</td>\n      <td>...</td>\n      <td>0</td>\n      <td>0</td>\n      <td>1</td>\n      <td>0</td>\n      <td>0</td>\n      <td>1</td>\n      <td>1</td>\n      <td>0</td>\n      <td>0</td>\n      <td>0</td>\n    </tr>\n  </tbody>\n</table>\n<p>7043 rows × 41 columns</p>\n</div>",
      "text/plain": "      gender  SeniorCitizen  Partner  Dependents  tenure  PhoneService  \\\n0          0              0        1           0       1             0   \n1          1              0        0           0      34             1   \n2          1              0        0           0       2             1   \n3          1              0        0           0      45             0   \n4          0              0        0           0       2             1   \n...      ...            ...      ...         ...     ...           ...   \n7038       1              0        1           1      24             1   \n7039       0              0        1           1      72             1   \n7040       0              0        1           1      11             0   \n7041       1              1        1           0       4             1   \n7042       1              0        0           0      66             1   \n\n      PaperlessBilling  MonthlyCharges  Churn  TotalChargesNum  ...  \\\n0                    1           29.85      0            29.85  ...   \n1                    0           56.95      0          1889.50  ...   \n2                    1           53.85      1           108.15  ...   \n3                    0           42.30      0          1840.75  ...   \n4                    1           70.70      1           151.65  ...   \n...                ...             ...    ...              ...  ...   \n7038                 1           84.80      0          1990.50  ...   \n7039                 1          103.20      0          7362.90  ...   \n7040                 1           29.60      0           346.45  ...   \n7041                 1           74.40      1           306.60  ...   \n7042                 1          105.65      0          6844.50  ...   \n\n      StreamingMovies_No  StreamingMovies_No internet service  \\\n0                      1                                    0   \n1                      1                                    0   \n2                      1                                    0   \n3                      1                                    0   \n4                      1                                    0   \n...                  ...                                  ...   \n7038                   0                                    0   \n7039                   0                                    0   \n7040                   1                                    0   \n7041                   1                                    0   \n7042                   0                                    0   \n\n      StreamingMovies_Yes  Contract_Month-to-month  Contract_One year  \\\n0                       0                        1                  0   \n1                       0                        0                  1   \n2                       0                        1                  0   \n3                       0                        0                  1   \n4                       0                        1                  0   \n...                   ...                      ...                ...   \n7038                    1                        0                  1   \n7039                    1                        0                  1   \n7040                    0                        1                  0   \n7041                    0                        1                  0   \n7042                    1                        0                  0   \n\n      Contract_Two year  PaymentMethod_Bank transfer (automatic)  \\\n0                     0                                        0   \n1                     0                                        0   \n2                     0                                        0   \n3                     0                                        1   \n4                     0                                        0   \n...                 ...                                      ...   \n7038                  0                                        0   \n7039                  0                                        0   \n7040                  0                                        0   \n7041                  0                                        0   \n7042                  1                                        1   \n\n      PaymentMethod_Credit card (automatic)  PaymentMethod_Electronic check  \\\n0                                         0                               1   \n1                                         0                               0   \n2                                         0                               0   \n3                                         0                               0   \n4                                         0                               1   \n...                                     ...                             ...   \n7038                                      0                               0   \n7039                                      1                               0   \n7040                                      0                               1   \n7041                                      0                               0   \n7042                                      0                               0   \n\n      PaymentMethod_Mailed check  \n0                              0  \n1                              1  \n2                              1  \n3                              0  \n4                              0  \n...                          ...  \n7038                           1  \n7039                           0  \n7040                           0  \n7041                           1  \n7042                           0  \n\n[7043 rows x 41 columns]"
     },
     "execution_count": 40,
     "metadata": {},
     "output_type": "execute_result"
    }
   ],
   "source": [
    "df"
   ]
  },
  {
   "cell_type": "code",
   "execution_count": 3,
   "metadata": {},
   "outputs": [],
   "source": [
    "# df.drop(\"customerID\",axis=1,inplace=True)"
   ]
  },
  {
   "cell_type": "code",
   "execution_count": 4,
   "metadata": {},
   "outputs": [
    {
     "name": "stdout",
     "output_type": "stream",
     "text": "Missing Value Rows--> [488, 753, 936, 1082, 1340, 3331, 3826, 4380, 5218, 6670, 6754] \nTotal rows--> 11\n"
    }
   ],
   "source": [
    "# #Identifying the rows containing missing data\n",
    "# missing_value_row = list(df[df['TotalCharges'] == \" \"].index)\n",
    "# print('Missing Value Rows-->', missing_value_row , '\\nTotal rows-->', len(missing_value_row))"
   ]
  },
  {
   "cell_type": "code",
   "execution_count": 5,
   "metadata": {},
   "outputs": [],
   "source": [
    "# # Replacing the spaces with 0\n",
    "# for missing_row in missing_value_row :\n",
    "#     df['TotalCharges'][missing_row] = 0"
   ]
  },
  {
   "cell_type": "code",
   "execution_count": 6,
   "metadata": {},
   "outputs": [],
   "source": [
    "# df['TotalChargesNum']= pd.to_numeric(df['TotalCharges'])\n"
   ]
  },
  {
   "cell_type": "code",
   "execution_count": 7,
   "metadata": {},
   "outputs": [],
   "source": [
    "# df.drop(\"TotalCharges\",axis=1,inplace=True)"
   ]
  },
  {
   "cell_type": "code",
   "execution_count": 8,
   "metadata": {},
   "outputs": [],
   "source": [
    "# df2 = df.copy()"
   ]
  },
  {
   "cell_type": "code",
   "execution_count": 38,
   "metadata": {},
   "outputs": [],
   "source": [
    "# df2.to_csv(\"finpro_clean.csv\",index=False)"
   ]
  },
  {
   "cell_type": "code",
   "execution_count": 9,
   "metadata": {},
   "outputs": [
    {
     "name": "stdout",
     "output_type": "stream",
     "text": "6 columns were label encoded.\n"
    }
   ],
   "source": [
    "# le = LabelEncoder()\n",
    "# le_count = 0\n",
    "# for col in df2.columns[0:]:\n",
    "#     if df2[col].dtype == 'object':\n",
    "#         if len(list(df2[col].unique())) <= 2:\n",
    "#             le.fit(df2[col])\n",
    "#             df2[col] = le.transform(df2[col])\n",
    "#             le_count += 1\n",
    "# print('{} columns were label encoded.'.format(le_count))"
   ]
  },
  {
   "cell_type": "code",
   "execution_count": 10,
   "metadata": {},
   "outputs": [],
   "source": [
    "# df2 = pd.get_dummies(df2)"
   ]
  },
  {
   "cell_type": "code",
   "execution_count": 12,
   "metadata": {},
   "outputs": [],
   "source": [
    "x = df2.drop([\"Churn\"],axis=1)\n",
    "y = df2[\"Churn\"]"
   ]
  },
  {
   "cell_type": "code",
   "execution_count": 14,
   "metadata": {},
   "outputs": [],
   "source": [
    "x_train, x_test, y_train, y_test = train_test_split(x, y, test_size = 0.1, random_state = 0)"
   ]
  },
  {
   "cell_type": "code",
   "execution_count": 13,
   "metadata": {},
   "outputs": [],
   "source": [
    "x1_train, x1_test, y1_train, y1_test = train_test_split(x, y, test_size = 0.2, random_state = 0)"
   ]
  },
  {
   "cell_type": "code",
   "execution_count": 33,
   "metadata": {},
   "outputs": [],
   "source": [
    "models=[\n",
    "    ['RandomForest', RandomForestClassifier()],\n",
    "    ['KNeighbours', KNeighborsClassifier(n_neighbors = 2)],\n",
    "    ['Decision Tree', DecisionTreeClassifier()],\n",
    "    ['XGB', XGBClassifier()],\n",
    "    ['Gradient', GradientBoostingClassifier()],\n",
    "    ['Gaussian',GaussianNB()]\n",
    "    \n",
    "]"
   ]
  },
  {
   "cell_type": "code",
   "execution_count": 34,
   "metadata": {},
   "outputs": [
    {
     "name": "stdout",
     "output_type": "stream",
     "text": "RandomForest \n               precision    recall  f1-score   support\n\n           0       0.83      0.89      0.86       525\n           1       0.60      0.48      0.54       180\n\n    accuracy                           0.79       705\n   macro avg       0.72      0.69      0.70       705\nweighted avg       0.77      0.79      0.78       705\n \n\n\nKNeighbours \n               precision    recall  f1-score   support\n\n           0       0.78      0.91      0.84       525\n           1       0.50      0.27      0.35       180\n\n    accuracy                           0.74       705\n   macro avg       0.64      0.59      0.59       705\nweighted avg       0.71      0.74      0.72       705\n \n\n\nDecision Tree \n               precision    recall  f1-score   support\n\n           0       0.82      0.79      0.81       525\n           1       0.45      0.50      0.47       180\n\n    accuracy                           0.72       705\n   macro avg       0.64      0.65      0.64       705\nweighted avg       0.73      0.72      0.72       705\n \n\n\nXGB \n               precision    recall  f1-score   support\n\n           0       0.84      0.90      0.87       525\n           1       0.63      0.51      0.56       180\n\n    accuracy                           0.80       705\n   macro avg       0.74      0.70      0.72       705\nweighted avg       0.79      0.80      0.79       705\n \n\n\nGradient \n               precision    recall  f1-score   support\n\n           0       0.83      0.88      0.86       525\n           1       0.58      0.47      0.52       180\n\n    accuracy                           0.78       705\n   macro avg       0.70      0.68      0.69       705\nweighted avg       0.76      0.78      0.77       705\n \n\n\nGaussian \n               precision    recall  f1-score   support\n\n           0       0.91      0.62      0.74       525\n           1       0.43      0.82      0.56       180\n\n    accuracy                           0.67       705\n   macro avg       0.67      0.72      0.65       705\nweighted avg       0.79      0.67      0.69       705\n \n\n\n"
    }
   ],
   "source": [
    "for name, model in models:\n",
    "    model = model\n",
    "    model.fit(x_train, y_train)\n",
    "    y_pred=model.predict(x_test)\n",
    "    print(name,'\\n',classification_report(y_test, y_pred),'\\n\\n')"
   ]
  },
  {
   "cell_type": "markdown",
   "metadata": {},
   "source": [
    "### Train 80"
   ]
  },
  {
   "cell_type": "code",
   "execution_count": 42,
   "metadata": {},
   "outputs": [
    {
     "name": "stdout",
     "output_type": "stream",
     "text": "RandomForest \n               precision    recall  f1-score   support\n\n           0       0.82      0.88      0.85      1041\n           1       0.58      0.47      0.52       368\n\n    accuracy                           0.77      1409\n   macro avg       0.70      0.67      0.68      1409\nweighted avg       0.76      0.77      0.76      1409\n \n\n\nKNeighbours \n               precision    recall  f1-score   support\n\n           0       0.78      0.91      0.84      1041\n           1       0.53      0.29      0.37       368\n\n    accuracy                           0.75      1409\n   macro avg       0.66      0.60      0.61      1409\nweighted avg       0.72      0.75      0.72      1409\n \n\n\nDecision Tree \n               precision    recall  f1-score   support\n\n           0       0.82      0.80      0.81      1041\n           1       0.47      0.49      0.48       368\n\n    accuracy                           0.72      1409\n   macro avg       0.64      0.65      0.65      1409\nweighted avg       0.73      0.72      0.72      1409\n \n\n\nXGB \n               precision    recall  f1-score   support\n\n           0       0.83      0.88      0.86      1041\n           1       0.60      0.49      0.54       368\n\n    accuracy                           0.78      1409\n   macro avg       0.71      0.69      0.70      1409\nweighted avg       0.77      0.78      0.77      1409\n \n\n\nGradient \n               precision    recall  f1-score   support\n\n           0       0.83      0.89      0.86      1041\n           1       0.61      0.48      0.54       368\n\n    accuracy                           0.78      1409\n   macro avg       0.72      0.69      0.70      1409\nweighted avg       0.77      0.78      0.78      1409\n \n\n\nGaussian \n               precision    recall  f1-score   support\n\n           0       0.91      0.64      0.75      1041\n           1       0.45      0.83      0.58       368\n\n    accuracy                           0.69      1409\n   macro avg       0.68      0.73      0.66      1409\nweighted avg       0.79      0.69      0.70      1409\n \n\n\n"
    }
   ],
   "source": [
    "for name, model in models:\n",
    "    model1 = model\n",
    "    model.fit(x1_train, y1_train)\n",
    "    y_pred1=model1.predict(x1_test)\n",
    "    print(name,'\\n',classification_report(y1_test, y_pred1),'\\n\\n')"
   ]
  },
  {
   "cell_type": "code",
   "execution_count": null,
   "metadata": {},
   "outputs": [],
   "source": []
  },
  {
   "cell_type": "code",
   "execution_count": null,
   "metadata": {},
   "outputs": [],
   "source": []
  },
  {
   "cell_type": "code",
   "execution_count": null,
   "metadata": {},
   "outputs": [],
   "source": []
  }
 ]
}